{
 "cells": [
  {
   "cell_type": "code",
   "execution_count": 23,
   "metadata": {},
   "outputs": [],
   "source": [
    "import pandas as pd\n",
    "import numpy as npw\n",
    "from datetime import datetime as dt\n",
    "from datetime import timedelta\n",
    "\n",
    "\n",
    "from flair.models import TextClassifier\n",
    "from flair.data import Sentence"
   ]
  },
  {
   "cell_type": "markdown",
   "metadata": {},
   "source": [
    "# NOTES ON THIS VERSION"
   ]
  },
  {
   "cell_type": "code",
   "execution_count": 24,
   "metadata": {},
   "outputs": [
    {
     "output_type": "stream",
     "name": "stdout",
     "text": [
      "2022-04-10 19:55:32,911 loading file /Users/TheTurner/.flair/models/sentiment-en-mix-distillbert_4.pt\n",
      "Sentence above is:  ['Sentence: \"The food was great !\"'/'POSITIVE' (0.9961)]\n"
     ]
    }
   ],
   "source": [
    "classifier = TextClassifier.load('en-sentiment')\n",
    "sentence = Sentence('The food was great!')\n",
    "classifier.predict(sentence)\n",
    "\n",
    "# print sentence with predicted labels\n",
    "print('Sentence above is: ', sentence.labels)"
   ]
  },
  {
   "cell_type": "code",
   "execution_count": 25,
   "metadata": {},
   "outputs": [
    {
     "output_type": "stream",
     "name": "stdout",
     "text": [
      "Sentence above is:  ['Sentence: \"yes , get some fucking bookmarks or favorites so we can find the products we 've shortlisted . Seriously , this has been asked for time and again , everyone has 25 tabs open all the time . Fix it !\"'/'POSITIVE' (0.8558)]\n"
     ]
    }
   ],
   "source": [
    "# classifier = TextClassifier.load('en-sentiment')\n",
    "sentence_all = Sentence(\"yes, get some fucking bookmarks or favorites so we can find the products we've shortlisted. Seriously, this has been asked for time and again, everyone has 25 tabs open all the time. Fix it!\")\n",
    "classifier.predict(sentence_all)\n",
    "\n",
    "# print sentence with predicted labels\n",
    "print('Sentence above is: ', sentence_all.labels)"
   ]
  },
  {
   "cell_type": "code",
   "execution_count": 26,
   "metadata": {},
   "outputs": [
    {
     "output_type": "stream",
     "name": "stdout",
     "text": [
      "Sentence above is:  ['Sentence: \"yes , get some fucking bookmarks or favorites so we can find the products we 've shortlisted .\"'/'POSITIVE' (0.941)]\n"
     ]
    }
   ],
   "source": [
    "sentence_1 = Sentence(\"yes, get some fucking bookmarks or favorites so we can find the products we've shortlisted.\")\n",
    "classifier.predict(sentence_1)\n",
    "\n",
    "# print sentence with predicted labels\n",
    "print('Sentence above is: ', sentence_1.labels)"
   ]
  },
  {
   "cell_type": "code",
   "execution_count": 27,
   "metadata": {},
   "outputs": [
    {
     "output_type": "stream",
     "name": "stdout",
     "text": [
      "Sentence above is:  ['Sentence: \"Seriously , this has been asked for time and again , everyone has 25 tabs open all the time . Fix it !\"'/'NEGATIVE' (0.7792)]\n"
     ]
    }
   ],
   "source": [
    "\n",
    "sentence_2 = Sentence(\"Seriously, this has been asked for time and again, everyone has 25 tabs open all the time. Fix it!\")\n",
    "classifier.predict(sentence_2)\n",
    "\n",
    "# print sentence with predicted labels\n",
    "print('Sentence above is: ', sentence_2.labels)"
   ]
  },
  {
   "cell_type": "code",
   "execution_count": null,
   "metadata": {},
   "outputs": [],
   "source": []
  },
  {
   "cell_type": "code",
   "execution_count": null,
   "metadata": {},
   "outputs": [],
   "source": []
  },
  {
   "cell_type": "code",
   "execution_count": null,
   "metadata": {},
   "outputs": [],
   "source": []
  }
 ],
 "metadata": {
  "kernelspec": {
   "name": "Python 3.9.7 64-bit ('base': conda)",
   "display_name": "Python 3.9.7 64-bit ('base': conda)",
   "metadata": {
    "interpreter": {
     "hash": "dca0ade3e726a953b501b15e8e990130d2b7799f14cfd9f4271676035ebe5511"
    }
   }
  },
  "language_info": {
   "codemirror_mode": {
    "name": "ipython",
    "version": 3
   },
   "file_extension": ".py",
   "mimetype": "text/x-python",
   "name": "python",
   "nbconvert_exporter": "python",
   "pygments_lexer": "ipython3",
   "version": "3.9.7-final"
  }
 },
 "nbformat": 4,
 "nbformat_minor": 2
}