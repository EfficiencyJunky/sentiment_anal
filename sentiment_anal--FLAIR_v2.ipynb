{
 "cells": [
  {
   "cell_type": "code",
   "execution_count": 2,
   "metadata": {},
   "outputs": [],
   "source": [
    "import pandas as pd\n",
    "import numpy as npw\n",
    "from datetime import datetime as dt\n",
    "from datetime import timedelta\n",
    "\n",
    "\n",
    "from flair.models import TextClassifier\n",
    "from flair.data import Sentence"
   ]
  },
  {
   "cell_type": "markdown",
   "metadata": {},
   "source": [
    "# NOTES ON THIS VERSION"
   ]
  },
  {
   "cell_type": "code",
   "execution_count": 3,
   "metadata": {},
   "outputs": [
    {
     "output_type": "stream",
     "name": "stdout",
     "text": [
      "2022-04-10 19:54:17,682 loading file /Users/TheTurner/.flair/models/sentiment-en-mix-distillbert_4.pt\n"
     ]
    }
   ],
   "source": [
    "# ANOTHER VERSION FROM THIS WEBSITE: https://towardsdatascience.com/the-best-python-sentiment-analysis-package-1-huge-common-mistake-d6da9ad6cdeb\n",
    "sia = TextClassifier.load('en-sentiment')\n",
    "\n",
    "def flair_prediction(x):\n",
    "    sentence = Sentence(x)\n",
    "    sia.predict(sentence)\n",
    "    score = sentence.labels[0]\n",
    "    print(sentence.labels)\n",
    "    if \"POSITIVE\" in str(score):\n",
    "        return \"pos\"\n",
    "    elif \"NEGATIVE\" in str(score):\n",
    "        return \"neg\"\n",
    "    else:\n",
    "        return \"neu\"\n",
    "\n"
   ]
  },
  {
   "cell_type": "code",
   "execution_count": 4,
   "metadata": {},
   "outputs": [
    {
     "output_type": "stream",
     "name": "stdout",
     "text": [
      "['Sentence: \"yes , get some fucking bookmarks or favorites so we can find the products we 've shortlisted . Seriously , this has been asked for time and again , everyone has 25 tabs open all the time . Fix it !\"'/'POSITIVE' (0.8558)]\n['Sentence: \"yes , get some fucking bookmarks or favorites so we can find the products we 've shortlisted .\"'/'POSITIVE' (0.941)]\n['Sentence: \"Seriously , this has been asked for time and again , everyone has 25 tabs open all the time . Fix it !\"'/'NEGATIVE' (0.7792)]\n"
     ]
    },
    {
     "output_type": "display_data",
     "data": {
      "text/plain": "                                             reviews sentiment\n0  yes, get some fucking bookmarks or favorites s...       pos\n1  yes, get some fucking bookmarks or favorites s...       pos\n2  Seriously, this has been asked for time and ag...       neg",
      "text/html": "<div>\n<style scoped>\n    .dataframe tbody tr th:only-of-type {\n        vertical-align: middle;\n    }\n\n    .dataframe tbody tr th {\n        vertical-align: top;\n    }\n\n    .dataframe thead th {\n        text-align: right;\n    }\n</style>\n<table border=\"1\" class=\"dataframe\">\n  <thead>\n    <tr style=\"text-align: right;\">\n      <th></th>\n      <th>reviews</th>\n      <th>sentiment</th>\n    </tr>\n  </thead>\n  <tbody>\n    <tr>\n      <th>0</th>\n      <td>yes, get some fucking bookmarks or favorites s...</td>\n      <td>pos</td>\n    </tr>\n    <tr>\n      <th>1</th>\n      <td>yes, get some fucking bookmarks or favorites s...</td>\n      <td>pos</td>\n    </tr>\n    <tr>\n      <th>2</th>\n      <td>Seriously, this has been asked for time and ag...</td>\n      <td>neg</td>\n    </tr>\n  </tbody>\n</table>\n</div>"
     },
     "metadata": {}
    }
   ],
   "source": [
    "data = [\n",
    "            [\"yes, get some fucking bookmarks or favorites so we can find the products we've shortlisted. Seriously, this has been asked for time and again, everyone has 25 tabs open all the time. Fix it!\"], \n",
    "            [\"yes, get some fucking bookmarks or favorites so we can find the products we've shortlisted.\"], \n",
    "            [\"Seriously, this has been asked for time and again, everyone has 25 tabs open all the time. Fix it!\"]\n",
    "        ]\n",
    " \n",
    "# Create the pandas DataFrame\n",
    "df = pd.DataFrame(data, columns = ['reviews'])\n",
    "\n",
    "df[\"reviews\"]\n",
    "\n",
    "df[\"sentiment\"] = df[\"reviews\"].apply(flair_prediction)\n",
    "\n",
    "display(df)"
   ]
  },
  {
   "cell_type": "code",
   "execution_count": null,
   "metadata": {},
   "outputs": [],
   "source": []
  }
 ],
 "metadata": {
  "kernelspec": {
   "name": "Python 3.9.7 64-bit ('base': conda)",
   "display_name": "Python 3.9.7 64-bit ('base': conda)",
   "metadata": {
    "interpreter": {
     "hash": "dca0ade3e726a953b501b15e8e990130d2b7799f14cfd9f4271676035ebe5511"
    }
   }
  },
  "language_info": {
   "codemirror_mode": {
    "name": "ipython",
    "version": 3
   },
   "file_extension": ".py",
   "mimetype": "text/x-python",
   "name": "python",
   "nbconvert_exporter": "python",
   "pygments_lexer": "ipython3",
   "version": "3.9.7-final"
  }
 },
 "nbformat": 4,
 "nbformat_minor": 2
}