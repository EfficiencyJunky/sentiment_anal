{
 "cells": [
  {
   "cell_type": "code",
   "execution_count": 1,
   "metadata": {},
   "outputs": [],
   "source": [
    "import pandas as pd\n",
    "import numpy as npw\n",
    "from datetime import datetime as dt\n",
    "from datetime import timedelta\n",
    "\n",
    "\n",
    "from vaderSentiment.vaderSentiment import SentimentIntensityAnalyzer\n",
    "\n",
    "\n"
   ]
  },
  {
   "cell_type": "markdown",
   "metadata": {},
   "source": [
    "# NOTES ON THIS VERSION"
   ]
  },
  {
   "cell_type": "code",
   "execution_count": 4,
   "metadata": {},
   "outputs": [
    {
     "output_type": "stream",
     "name": "stdout",
     "text": [
      "yes, get some fucking bookmarks or favorites so we can find the products we've shortlisted. Seriously, this has been asked for time and again, everyone has 25 tabs open all the time. Fix it! {'neg': 0.044, 'neu': 0.8, 'pos': 0.156, 'compound': 0.6548}\n"
     ]
    }
   ],
   "source": [
    "analyzer = SentimentIntensityAnalyzer()\n",
    "sentence = \"yes, get some fucking bookmarks or favorites so we can find the products we've shortlisted. Seriously, this has been asked for time and again, everyone has 25 tabs open all the time. Fix it!\"\n",
    "\n",
    "vs = analyzer.polarity_scores(sentence)\n",
    "\n",
    "print(\"{:-<65} {}\".format(sentence, str(vs)))"
   ]
  },
  {
   "cell_type": "code",
   "execution_count": 11,
   "metadata": {},
   "outputs": [
    {
     "output_type": "stream",
     "name": "stdout",
     "text": [
      "yes, get some fucking bookmarks or favorites so we can find the products we've shortlisted. {'neg': 0.0, 'neu': 0.693, 'pos': 0.307, 'compound': 0.6969}\n"
     ]
    }
   ],
   "source": [
    "analyzer = SentimentIntensityAnalyzer()\n",
    "sentence1 = \"yes, get some fucking bookmarks or favorites so we can find the products we've shortlisted.\"\n",
    "\n",
    "vs = analyzer.polarity_scores(sentence1)\n",
    "\n",
    "print(\"{:-<65} {}\".format(sentence1, str(vs)))"
   ]
  },
  {
   "cell_type": "code",
   "execution_count": 12,
   "metadata": {},
   "outputs": [
    {
     "output_type": "stream",
     "name": "stdout",
     "text": [
      "Seriously, this has been asked for time and again, everyone has 25 tabs open all the time. Fix it! {'neg': 0.1, 'neu': 0.9, 'pos': 0.0, 'compound': -0.2481}\n"
     ]
    }
   ],
   "source": [
    "analyzer = SentimentIntensityAnalyzer()\n",
    "sentence3 = \"Seriously, this has been asked for time and again, everyone has 25 tabs open all the time. Fix it!\"\n",
    "\n",
    "vs = analyzer.polarity_scores(sentence3)\n",
    "\n",
    "print(\"{:-<65} {}\".format(sentence3, str(vs)))"
   ]
  },
  {
   "cell_type": "code",
   "execution_count": null,
   "metadata": {},
   "outputs": [],
   "source": []
  }
 ],
 "metadata": {
  "kernelspec": {
   "name": "Python 3.9.7 64-bit ('base': conda)",
   "display_name": "Python 3.9.7 64-bit ('base': conda)",
   "metadata": {
    "interpreter": {
     "hash": "dca0ade3e726a953b501b15e8e990130d2b7799f14cfd9f4271676035ebe5511"
    }
   }
  },
  "language_info": {
   "codemirror_mode": {
    "name": "ipython",
    "version": 3
   },
   "file_extension": ".py",
   "mimetype": "text/x-python",
   "name": "python",
   "nbconvert_exporter": "python",
   "pygments_lexer": "ipython3",
   "version": "3.9.7-final"
  }
 },
 "nbformat": 4,
 "nbformat_minor": 2
}